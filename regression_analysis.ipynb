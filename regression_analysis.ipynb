{
 "cells": [
  {
   "cell_type": "code",
   "execution_count": 1,
   "metadata": {},
   "outputs": [
    {
     "name": "stdout",
     "output_type": "stream",
     "text": [
      "Data shape: (4981, 7393)\n",
      "   Geno_Code  pop   m1   m2   m3   m4   m5   m6   m7   m8  ...  m7382  m7383  \\\n",
      "0  Z001E0001  1.0  1.0  1.0  1.0  1.0  1.0  1.0  1.0  1.0  ...    0.0    0.0   \n",
      "1  Z001E0002  1.0  2.0  2.0  2.0  2.0  2.0  2.0  2.0  2.0  ...    2.0    2.0   \n",
      "2  Z001E0003  1.0  0.0  0.0  0.0  0.0  0.0  0.0  0.0  0.0  ...    0.0    0.0   \n",
      "3  Z001E0004  1.0  0.0  0.0  0.0  0.0  0.0  0.0  0.0  0.0  ...    2.0    2.0   \n",
      "4  Z001E0005  1.0  2.0  2.0  2.0  2.0  2.0  2.0  2.0  2.0  ...    0.0    0.0   \n",
      "\n",
      "   m7384  m7385  m7386  m7387  m7388  m7389  Entry     DtoA  \n",
      "0    0.0    0.0    0.0    0.0    0.0    0.0    1.0  75.5364  \n",
      "1    2.0    2.0    2.0    2.0    2.0    2.0    2.0  76.9075  \n",
      "2    0.0    0.0    0.0    0.0    0.0    0.0    3.0  75.2646  \n",
      "3    2.0    2.0    2.0    2.0    2.0    2.0    4.0  73.6933  \n",
      "4    0.0    0.0    0.0    0.0    0.0    0.0    5.0  79.2441  \n",
      "\n",
      "[5 rows x 7393 columns]\n",
      "Saved to maize_data.csv\n"
     ]
    }
   ],
   "source": [
    "import pyreadstat\n",
    "\n",
    "# Load SAS file\n",
    "df, meta = pyreadstat.read_sas7bdat('data/maize-1.sas7bdat')\n",
    "print(\"Data shape:\", df.shape)\n",
    "print(df.head())\n",
    "\n",
    "# Save to CSV\n",
    "df.to_csv('data/maize_data.csv', index=False)\n",
    "print(\"Saved to maize_data.csv\")\n"
   ]
  },
  {
   "cell_type": "code",
   "execution_count": 25,
   "metadata": {},
   "outputs": [
    {
     "name": "stdout",
     "output_type": "stream",
     "text": [
      "4981\n"
     ]
    }
   ],
   "source": [
    "import pandas as pd\n",
    "from sklearn.model_selection import train_test_split\n",
    "from sklearn.model_selection import train_test_split\n",
    "\n",
    "# Load data\n",
    "df = pd.read_csv(\"data/maize_data.csv\")\n",
    "\n",
    "# Prepare features and target\n",
    "X = df.drop('DtoA', axis=1)\n",
    "y = df['DtoA']\n",
    "\n",
    "# Convert categorical (string) columns to numeric\n",
    "X = pd.get_dummies(X, drop_first=True)\n",
    "\n",
    "# Split into train (80%) and test (20%)\n",
    "X_train, X_test, y_train, y_test = train_test_split(\n",
    "    X, y, test_size=0.2, random_state=42\n",
    ")\n",
    "\n",
    "print(len(X))"
   ]
  },
  {
   "cell_type": "code",
   "execution_count": 41,
   "metadata": {},
   "outputs": [],
   "source": [
    "from sklearn.model_selection import GridSearchCV\n",
    "from itertools import combinations\n",
    "from sklearn.pipeline import Pipeline\n",
    "from sklearn.impute import SimpleImputer\n",
    "from sklearn.preprocessing import StandardScaler\n",
    "from sklearn.linear_model import Ridge, Lasso, ElasticNet\n",
    "from sklearn.metrics import make_scorer, mean_squared_error\n",
    "from sklearn.model_selection import KFold\n",
    "from sklearn.base import clone\n",
    "import numpy as np\n",
    "import time\n",
    "\n",
    "# RMSE scorer\n",
    "def rmse(y_true, y_pred):\n",
    "    return np.sqrt(mean_squared_error(y_true, y_pred))\n",
    "\n",
    "rmse_scorer = make_scorer(rmse, greater_is_better=False)\n",
    "\n",
    "# Function to create pipeline for Ridge, Lasso, and ElasticNet\n",
    "def create_pipeline(model):\n",
    "    return Pipeline([\n",
    "        ('imputer', SimpleImputer(strategy='mean')),\n",
    "        ('scaler', StandardScaler()),\n",
    "        ('regressor', model)\n",
    "    ])\n",
    "\n",
    "# Reusable GridSearch function, uses RMSE as scoring metric\n",
    "def run_grid_search(model_pipeline, param_grid, X_train, y_train, X_test, y_test, cv=10, doJaccard=False):\n",
    "    start_time = time.time()\n",
    "    grid_search = GridSearchCV(\n",
    "        estimator=model_pipeline,\n",
    "        param_grid=param_grid,\n",
    "        scoring=rmse_scorer,\n",
    "        refit=True,\n",
    "        cv=cv,\n",
    "        n_jobs=4,\n",
    "        verbose=2\n",
    "    )\n",
    "\n",
    "    # Fit GridSearch\n",
    "    grid_search.fit(X_train, y_train.squeeze())\n",
    "\n",
    "    best_model = grid_search.best_estimator_\n",
    "    best_params = grid_search.best_params_\n",
    "\n",
    "    # CV metrics\n",
    "    cv_results = grid_search.cv_results_\n",
    "    mean_rmse = np.sqrt(-cv_results['mean_test_score'][grid_search.best_index_])\n",
    "    std_rmse = np.sqrt(cv_results['std_test_score'][grid_search.best_index_]**2)\n",
    "\n",
    "    # Evaluate on test set\n",
    "    y_test_pred = best_model.predict(X_test)\n",
    "    test_rmse = np.sqrt(mean_squared_error(y_test, y_test_pred))\n",
    "\n",
    "    elapsed_time = time.time() - start_time\n",
    "\n",
    "    if(doJaccard):\n",
    "        # Get coefficients from each fold\n",
    "        selected_features_per_fold = []\n",
    "        kf = KFold(n_splits=cv, shuffle=True, random_state=42)\n",
    "        for train_idx, val_idx in kf.split(X_train):\n",
    "            X_tr, y_tr = X_train.iloc[train_idx], y_train.iloc[train_idx]\n",
    "            fold_model = clone(best_model)\n",
    "            fold_model.fit(X_tr, y_tr)\n",
    "            coef = fold_model.named_steps['regressor'].coef_\n",
    "            selected = np.where(coef != 0)[0]\n",
    "            selected_features_per_fold.append(selected)\n",
    "\n",
    "        # Compute pairwise Jaccard indices\n",
    "        jaccard_scores = []\n",
    "        for a, b in combinations(selected_features_per_fold, 2):\n",
    "            jaccard = len(set(a).intersection(b)) / len(set(a).union(b)) if len(set(a).union(b)) > 0 else 0\n",
    "            jaccard_scores.append(jaccard)\n",
    "\n",
    "        stability_score = np.mean(jaccard_scores)\n",
    "        print(f\"Feature selection stability (Jaccard): {stability_score:.2f}\")\n",
    "\n",
    "    print(\"Best params:\", best_params)\n",
    "    print(f\"CV RMSE: {mean_rmse:.2f}\")\n",
    "    print(f\"CV RMSE std: {std_rmse:.2f}\")\n",
    "    print(f\"Test RMSE: {test_rmse:.2f}\")\n",
    "    print(f\"Time: {elapsed_time:.2f} s\")\n",
    "\n",
    "    return best_model, best_params\n",
    "\n",
    "\n",
    "\n"
   ]
  },
  {
   "cell_type": "markdown",
   "metadata": {},
   "source": [
    "### Ridge Regression"
   ]
  },
  {
   "cell_type": "code",
   "execution_count": 19,
   "metadata": {},
   "outputs": [
    {
     "name": "stdout",
     "output_type": "stream",
     "text": [
      "Fitting 10 folds for each of 5 candidates, totalling 50 fits\n",
      "Best params: {'regressor__alpha': 50}\n",
      "CV RMSE: 1.87\n",
      "CV RMSE std: 0.09\n",
      "Test RMSE: 3.50\n",
      "Time: 128.61 s\n"
     ]
    }
   ],
   "source": [
    "# Ridge Pipeline\n",
    "ridge_pipeline = create_pipeline(Ridge())\n",
    "ridge_param_grid = {'regressor__alpha': [0.01, 0.1, 1, 10, 50]}\n",
    "\n",
    "best_ridge, best_params = run_grid_search(\n",
    "    ridge_pipeline, ridge_param_grid,\n",
    "    X_train, y_train,\n",
    "    X_test, y_test,\n",
    "    cv=10\n",
    ")"
   ]
  },
  {
   "cell_type": "markdown",
   "metadata": {},
   "source": [
    "### Lasso Regression"
   ]
  },
  {
   "cell_type": "code",
   "execution_count": 42,
   "metadata": {},
   "outputs": [
    {
     "name": "stdout",
     "output_type": "stream",
     "text": [
      "Fitting 10 folds for each of 5 candidates, totalling 50 fits\n",
      "Feature selection stability (Jaccard): 0.64\n",
      "Best params: {'regressor__alpha': 0.1}\n",
      "CV RMSE: 1.85\n",
      "CV RMSE std: 0.09\n",
      "Test RMSE: 3.39\n",
      "Time: 453.23 s\n",
      "Number of non-zero coefficients: 335\n"
     ]
    }
   ],
   "source": [
    "# Lasso Pipeline\n",
    "lasso_pipeline = create_pipeline(Lasso(max_iter=5000))\n",
    "lasso_param_grid = {'regressor__alpha': [0.001, 0.01, 0.1, 1.0, 10.0]}\n",
    "\n",
    "best_lasso, test_rmse_lasso = run_grid_search(\n",
    "    lasso_pipeline, lasso_param_grid,\n",
    "    X_train, y_train,\n",
    "    X_test, y_test,\n",
    "    cv=10, doJaccard=True\n",
    ")\n",
    "\n",
    "best_regressor = best_lasso.named_steps['regressor']\n",
    "\n",
    "# Count non-zero coefficients\n",
    "non_zero_coeffs = np.sum(best_regressor.coef_ != 0)\n",
    "print(f\"Number of non-zero coefficients: {non_zero_coeffs}\")"
   ]
  },
  {
   "cell_type": "markdown",
   "metadata": {},
   "source": [
    "### Elastic Net"
   ]
  },
  {
   "cell_type": "code",
   "execution_count": 43,
   "metadata": {},
   "outputs": [
    {
     "name": "stdout",
     "output_type": "stream",
     "text": [
      "Fitting 10 folds for each of 16 candidates, totalling 160 fits\n",
      "Feature selection stability (Jaccard): 0.69\n",
      "Best params: {'regressor__alpha': 0.1, 'regressor__l1_ratio': 0.5}\n",
      "CV RMSE: 1.85\n",
      "CV RMSE std: 0.09\n",
      "Test RMSE: 3.40\n",
      "Time: 2901.38 s\n",
      "Number of non-zero coefficients: 1496\n"
     ]
    }
   ],
   "source": [
    "# ElasticNet Pipeline\n",
    "elastic_pipeline = create_pipeline(ElasticNet(max_iter=5000))\n",
    "elastic_param_grid = {\n",
    "    'regressor__alpha': [0.001, 0.01, 0.1, 0.5],\n",
    "    'regressor__l1_ratio': [0.1, 0.3, 0.5, 0.7]\n",
    "}\n",
    "\n",
    "best_elastic, test_rmse_elastic = run_grid_search(\n",
    "    elastic_pipeline, elastic_param_grid,\n",
    "    X_train, y_train,\n",
    "    X_test, y_test,\n",
    "    cv=10, doJaccard=True\n",
    ")\n",
    "\n",
    "best_regressor = best_elastic.named_steps['regressor']\n",
    "\n",
    "# Count non-zero coefficients\n",
    "non_zero_coeffs = np.sum(best_regressor.coef_ != 0)\n",
    "print(f\"Number of non-zero coefficients: {non_zero_coeffs}\")"
   ]
  },
  {
   "cell_type": "markdown",
   "metadata": {},
   "source": [
    "### AIC/BIC"
   ]
  },
  {
   "cell_type": "code",
   "execution_count": 44,
   "metadata": {},
   "outputs": [
    {
     "name": "stdout",
     "output_type": "stream",
     "text": [
      "Fitting 10 folds for each of 1 candidates, totalling 10 fits\n",
      "Feature selection stability (Jaccard): 0.86\n",
      "Best params: {}\n",
      "CV RMSE: 1.86\n",
      "CV RMSE std: 0.08\n",
      "Test RMSE: 3.43\n",
      "Time: 4177.60 s\n",
      "# Feats/Comps: 39\n"
     ]
    }
   ],
   "source": [
    "from sklearn.base import BaseEstimator, TransformerMixin\n",
    "from sklearn.linear_model import LinearRegression\n",
    "\n",
    "# Forward Stepwise BIC Selector\n",
    "class ForwardStepwiseBIC(BaseEstimator, TransformerMixin):\n",
    "    def __init__(self):\n",
    "        self.best_subset_ = []\n",
    "\n",
    "    def fit(self, X, y):\n",
    "        n_samples, n_features = X.shape\n",
    "        remaining_features = list(range(n_features))\n",
    "        selected_features = []\n",
    "        best_bic = np.inf\n",
    "\n",
    "        while remaining_features:\n",
    "            improved = False\n",
    "            best_feature = None\n",
    "\n",
    "            for f in remaining_features:\n",
    "                trial_features = selected_features + [f]\n",
    "                X_sub = X[:, trial_features]\n",
    "                lr = LinearRegression().fit(X_sub, y)\n",
    "                rss = np.sum((y - lr.predict(X_sub))**2)\n",
    "                bic = n_samples * np.log(rss / n_samples) + (len(trial_features)+1) * np.log(n_samples)\n",
    "\n",
    "                if bic < best_bic:\n",
    "                    best_bic = bic\n",
    "                    best_feature = f\n",
    "                    improved = True\n",
    "\n",
    "            if improved:\n",
    "                selected_features.append(best_feature)\n",
    "                remaining_features.remove(best_feature)\n",
    "            else:\n",
    "                break  # Stop if no improvement\n",
    "\n",
    "        self.best_subset_ = selected_features\n",
    "        return self\n",
    "\n",
    "    def transform(self, X):\n",
    "        return X[:, self.best_subset_]\n",
    "\n",
    "# Stepwise (BIC) Pipeline\n",
    "stepwise_pipeline = Pipeline([\n",
    "    ('imputer', SimpleImputer(strategy='mean')),\n",
    "    ('scaler', StandardScaler()),\n",
    "    ('stepwise', ForwardStepwiseBIC()),\n",
    "    ('regressor', LinearRegression())\n",
    "])\n",
    "\n",
    "# No hyperparameters to grid search\n",
    "stepwise_param_grid = {}\n",
    "\n",
    "# Run pipeline\n",
    "best_stepwise, stepwise_metrics = run_grid_search(\n",
    "    stepwise_pipeline, stepwise_param_grid,\n",
    "    X_train, y_train,\n",
    "    X_test, y_test,\n",
    "    cv=10, doJaccard=True\n",
    ")\n",
    "\n",
    "print(f\"# Feats/Comps: {len(best_stepwise.named_steps['stepwise'].best_subset_)}\")\n"
   ]
  },
  {
   "cell_type": "markdown",
   "metadata": {},
   "source": [
    "### PCR"
   ]
  },
  {
   "cell_type": "code",
   "execution_count": 21,
   "metadata": {},
   "outputs": [
    {
     "name": "stdout",
     "output_type": "stream",
     "text": [
      "Fitting 10 folds for each of 5 candidates, totalling 50 fits\n",
      "Best params: {'pca__n_components': 30}\n",
      "CV RMSE: 1.89\n",
      "CV RMSE std: 0.11\n",
      "Test RMSE: 3.56\n",
      "Time: 121.20 s\n"
     ]
    }
   ],
   "source": [
    "from sklearn.decomposition import PCA\n",
    "\n",
    "# PCR Pipeline\n",
    "pcr_pipeline = Pipeline([\n",
    "    ('imputer', SimpleImputer(strategy='mean')),\n",
    "    ('scaler', StandardScaler()),\n",
    "    ('pca', PCA()),\n",
    "    ('regressor', LinearRegression())\n",
    "])\n",
    "\n",
    "pcr_param_grid = {\n",
    "    'pca__n_components': [10, 30, 50, 70, 100]\n",
    "}\n",
    "\n",
    "best_pcr, pcr_metrics = run_grid_search(\n",
    "    pcr_pipeline, pcr_param_grid,\n",
    "    X_train, y_train,\n",
    "    X_test, y_test,\n",
    "    cv=10\n",
    ")"
   ]
  },
  {
   "cell_type": "markdown",
   "metadata": {},
   "source": [
    "### PLS"
   ]
  },
  {
   "cell_type": "code",
   "execution_count": 22,
   "metadata": {},
   "outputs": [
    {
     "name": "stdout",
     "output_type": "stream",
     "text": [
      "Fitting 10 folds for each of 5 candidates, totalling 50 fits\n",
      "Best params: {'pls__n_components': 20}\n",
      "CV RMSE: 1.87\n",
      "CV RMSE std: 0.09\n",
      "Test RMSE: 3.50\n",
      "Time: 221.45 s\n"
     ]
    }
   ],
   "source": [
    "from sklearn.cross_decomposition import PLSRegression\n",
    "\n",
    "# PLS Pipeline\n",
    "pls_pipeline = Pipeline([\n",
    "    ('imputer', SimpleImputer(strategy='mean')),\n",
    "    ('scaler', StandardScaler()),\n",
    "    ('pls', PLSRegression())\n",
    "])\n",
    "\n",
    "pls_param_grid = {\n",
    "    'pls__n_components': [5, 10, 20, 30, 50] \n",
    "}\n",
    "\n",
    "best_pls, pls_metrics = run_grid_search(\n",
    "    pls_pipeline, pls_param_grid,\n",
    "    X_train, y_train,\n",
    "    X_test, y_test,\n",
    "    cv=10\n",
    ")\n"
   ]
  },
  {
   "cell_type": "code",
   "execution_count": 47,
   "metadata": {},
   "outputs": [
    {
     "data": {
      "image/png": "[encoded data removed]",
      "text/plain": [
       "<Figure size 800x500 with 1 Axes>"
      ]
     },
     "metadata": {},
     "output_type": "display_data"
    },
    {
     "data": {
      "image/png": "[encoded data removed]",
      "text/plain": [
       "<Figure size 800x500 with 1 Axes>"
      ]
     },
     "metadata": {},
     "output_type": "display_data"
    }
   ],
   "source": [
    "import matplotlib.pyplot as plt\n",
    "import seaborn as sns\n",
    "\n",
    "# Results df\n",
    "results = pd.DataFrame({\n",
    "    'Method': ['Ridge', 'Lasso', 'Elastic Net', 'Stepwise BIC', 'PCR', 'PLS'],\n",
    "    'RMSE_CV': [1.87, 1.85, 1.85, 1.86, 1.89, 1.87],\n",
    "    'RMSE_CV_std': [0.09, 0.09, 0.09, 0.08, 0.11, 0.09],\n",
    "    'RMSE_Test': [3.50, 3.39, 3.40, 3.43, 3.56, 3.50],\n",
    "    'Num_Predictors': [7390, 335, 1496, 39, 30, 20],\n",
    "    'Time_s': [128.61, 453.23, 2901.38, 4177.60, 121.20, 221.45]\n",
    "})\n",
    "\n",
    "# Bar Chart with CV error bars\n",
    "plt.figure(figsize=(8, 5))\n",
    "sns.barplot(\n",
    "    data=results,\n",
    "    x='Method',\n",
    "    y='RMSE_Test',\n",
    "    color='skyblue',\n",
    "    edgecolor='black'\n",
    ")\n",
    "\n",
    "for i, row in results.iterrows():\n",
    "    plt.errorbar(\n",
    "        x=i,                     \n",
    "        y=row['RMSE_Test'],       \n",
    "        yerr=row['RMSE_CV_std'],  \n",
    "        fmt='none',               \n",
    "        ecolor='black',          \n",
    "        capsize=5                 \n",
    "    )\n",
    "\n",
    "plt.title(\"Model Comparison: Test RMSE\", fontsize=16)\n",
    "plt.ylabel(\"Test RMSE\", fontsize=14)\n",
    "plt.xlabel(\"Method\", fontsize=14)\n",
    "plt.xticks(rotation=30, ha='right')\n",
    "plt.tight_layout()\n",
    "plt.show()\n",
    "\n",
    "plt.figure(figsize=(8,5))\n",
    "sns.scatterplot(data=results, x='Time_s', y='RMSE_Test', hue='Method', s=100)\n",
    "\n",
    "# Plotting RMSE vs. Compute Time\n",
    "plt.title(\"RMSE vs. Compute Time\", fontsize=16)\n",
    "plt.xlabel(\"Compute Time (s)\", fontsize=14)\n",
    "plt.ylabel(\"Test RMSE\", fontsize=14)\n",
    "plt.legend(title=\"Method\")\n",
    "plt.tight_layout()\n",
    "plt.show()\n"
   ]
  }
 ],
 "metadata": {
  "kernelspec": {
   "display_name": "stats",
   "language": "python",
   "name": "python3"
  },
  "language_info": {
   "codemirror_mode": {
    "name": "ipython",
    "version": 3
   },
   "file_extension": ".py",
   "mimetype": "text/x-python",
   "name": "python",
   "nbconvert_exporter": "python",
   "pygments_lexer": "ipython3",
   "version": "3.11.13"
  }
 },
 "nbformat": 4,
 "nbformat_minor": 2
}
